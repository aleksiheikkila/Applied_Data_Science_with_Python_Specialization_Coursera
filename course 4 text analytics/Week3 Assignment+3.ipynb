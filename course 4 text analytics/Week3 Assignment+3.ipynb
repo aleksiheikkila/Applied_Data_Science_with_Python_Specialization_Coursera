{
 "cells": [
  {
   "cell_type": "markdown",
   "metadata": {},
   "source": [
    "---\n",
    "\n",
    "_You are currently looking at **version 1.1** of this notebook. To download notebooks and datafiles, as well as get help on Jupyter notebooks in the Coursera platform, visit the [Jupyter Notebook FAQ](https://www.coursera.org/learn/python-text-mining/resources/d9pwm) course resource._\n",
    "\n",
    "---"
   ]
  },
  {
   "cell_type": "markdown",
   "metadata": {},
   "source": [
    "# Assignment 3\n",
    "\n",
    "In this assignment you will explore text message data and create models to predict if a message is spam or not. "
   ]
  },
  {
   "cell_type": "code",
   "execution_count": 59,
   "metadata": {},
   "outputs": [
    {
     "data": {
      "text/html": [
       "<div>\n",
       "<style>\n",
       "    .dataframe thead tr:only-child th {\n",
       "        text-align: right;\n",
       "    }\n",
       "\n",
       "    .dataframe thead th {\n",
       "        text-align: left;\n",
       "    }\n",
       "\n",
       "    .dataframe tbody tr th {\n",
       "        vertical-align: top;\n",
       "    }\n",
       "</style>\n",
       "<table border=\"1\" class=\"dataframe\">\n",
       "  <thead>\n",
       "    <tr style=\"text-align: right;\">\n",
       "      <th></th>\n",
       "      <th>text</th>\n",
       "      <th>target</th>\n",
       "    </tr>\n",
       "  </thead>\n",
       "  <tbody>\n",
       "    <tr>\n",
       "      <th>0</th>\n",
       "      <td>Go until jurong point, crazy.. Available only ...</td>\n",
       "      <td>0</td>\n",
       "    </tr>\n",
       "    <tr>\n",
       "      <th>1</th>\n",
       "      <td>Ok lar... Joking wif u oni...</td>\n",
       "      <td>0</td>\n",
       "    </tr>\n",
       "    <tr>\n",
       "      <th>2</th>\n",
       "      <td>Free entry in 2 a wkly comp to win FA Cup fina...</td>\n",
       "      <td>1</td>\n",
       "    </tr>\n",
       "    <tr>\n",
       "      <th>3</th>\n",
       "      <td>U dun say so early hor... U c already then say...</td>\n",
       "      <td>0</td>\n",
       "    </tr>\n",
       "    <tr>\n",
       "      <th>4</th>\n",
       "      <td>Nah I don't think he goes to usf, he lives aro...</td>\n",
       "      <td>0</td>\n",
       "    </tr>\n",
       "    <tr>\n",
       "      <th>5</th>\n",
       "      <td>FreeMsg Hey there darling it's been 3 week's n...</td>\n",
       "      <td>1</td>\n",
       "    </tr>\n",
       "    <tr>\n",
       "      <th>6</th>\n",
       "      <td>Even my brother is not like to speak with me. ...</td>\n",
       "      <td>0</td>\n",
       "    </tr>\n",
       "    <tr>\n",
       "      <th>7</th>\n",
       "      <td>As per your request 'Melle Melle (Oru Minnamin...</td>\n",
       "      <td>0</td>\n",
       "    </tr>\n",
       "    <tr>\n",
       "      <th>8</th>\n",
       "      <td>WINNER!! As a valued network customer you have...</td>\n",
       "      <td>1</td>\n",
       "    </tr>\n",
       "    <tr>\n",
       "      <th>9</th>\n",
       "      <td>Had your mobile 11 months or more? U R entitle...</td>\n",
       "      <td>1</td>\n",
       "    </tr>\n",
       "  </tbody>\n",
       "</table>\n",
       "</div>"
      ],
      "text/plain": [
       "                                                text  target\n",
       "0  Go until jurong point, crazy.. Available only ...       0\n",
       "1                      Ok lar... Joking wif u oni...       0\n",
       "2  Free entry in 2 a wkly comp to win FA Cup fina...       1\n",
       "3  U dun say so early hor... U c already then say...       0\n",
       "4  Nah I don't think he goes to usf, he lives aro...       0\n",
       "5  FreeMsg Hey there darling it's been 3 week's n...       1\n",
       "6  Even my brother is not like to speak with me. ...       0\n",
       "7  As per your request 'Melle Melle (Oru Minnamin...       0\n",
       "8  WINNER!! As a valued network customer you have...       1\n",
       "9  Had your mobile 11 months or more? U R entitle...       1"
      ]
     },
     "execution_count": 59,
     "metadata": {},
     "output_type": "execute_result"
    }
   ],
   "source": [
    "import pandas as pd\n",
    "import numpy as np\n",
    "\n",
    "spam_data = pd.read_csv('spam.csv')\n",
    "\n",
    "spam_data['target'] = np.where(spam_data['target'] == 'spam', 1, 0)\n",
    "spam_data.head(10)"
   ]
  },
  {
   "cell_type": "code",
   "execution_count": 60,
   "metadata": {
    "collapsed": true
   },
   "outputs": [],
   "source": [
    "from sklearn.model_selection import train_test_split\n",
    "\n",
    "\n",
    "X_train, X_test, y_train, y_test = train_test_split(spam_data['text'], \n",
    "                                                    spam_data['target'], \n",
    "                                                    random_state=0)"
   ]
  },
  {
   "cell_type": "markdown",
   "metadata": {},
   "source": [
    "### Question 1\n",
    "What percentage of the documents in `spam_data` are spam?\n",
    "\n",
    "*This function should return a float, the percent value (i.e. $ratio * 100$).*"
   ]
  },
  {
   "cell_type": "code",
   "execution_count": 61,
   "metadata": {
    "collapsed": true
   },
   "outputs": [],
   "source": [
    "def answer_one():\n",
    "    spam_perc = np.sum(spam_data[\"target\"]) / spam_data.shape[0]\n",
    "    \n",
    "    return 100.0 * spam_perc #Your answer here\n",
    "\n",
    "#answer_one()"
   ]
  },
  {
   "cell_type": "code",
   "execution_count": 62,
   "metadata": {},
   "outputs": [
    {
     "data": {
      "text/plain": [
       "13.406317300789663"
      ]
     },
     "execution_count": 62,
     "metadata": {},
     "output_type": "execute_result"
    }
   ],
   "source": [
    "answer_one()"
   ]
  },
  {
   "cell_type": "markdown",
   "metadata": {},
   "source": [
    "### Question 2\n",
    "\n",
    "Fit the training data `X_train` using a Count Vectorizer with default parameters.\n",
    "\n",
    "What is the longest token in the vocabulary?\n",
    "\n",
    "*This function should return a string.*"
   ]
  },
  {
   "cell_type": "code",
   "execution_count": 63,
   "metadata": {
    "collapsed": true
   },
   "outputs": [],
   "source": [
    "from sklearn.feature_extraction.text import CountVectorizer\n",
    "\n",
    "def answer_two():\n",
    "    vect = CountVectorizer().fit(X_train)\n",
    "    \n",
    "    #X_train_vectorized = vect.transform(X_train)\n",
    "    \n",
    "    \n",
    "    featnames = vect.get_feature_names()\n",
    "    \n",
    "    # Get longest string from the list\n",
    "    longest = max(featnames, key=len)\n",
    "    \n",
    "    return longest#Your answer here"
   ]
  },
  {
   "cell_type": "code",
   "execution_count": 64,
   "metadata": {},
   "outputs": [
    {
     "data": {
      "text/plain": [
       "'com1win150ppmx3age16subscription'"
      ]
     },
     "execution_count": 64,
     "metadata": {},
     "output_type": "execute_result"
    }
   ],
   "source": [
    "answer_two()"
   ]
  },
  {
   "cell_type": "markdown",
   "metadata": {},
   "source": [
    "### Question 3\n",
    "\n",
    "Fit and transform the training data `X_train` using a Count Vectorizer with default parameters.\n",
    "\n",
    "Next, fit a fit a multinomial Naive Bayes classifier model with smoothing `alpha=0.1`. Find the area under the curve (AUC) score using the transformed test data.\n",
    "\n",
    "*This function should return the AUC score as a float.*"
   ]
  },
  {
   "cell_type": "code",
   "execution_count": 65,
   "metadata": {
    "collapsed": true
   },
   "outputs": [],
   "source": [
    "from sklearn.naive_bayes import MultinomialNB\n",
    "from sklearn.metrics import roc_auc_score\n",
    "\n",
    "def answer_three():\n",
    "    vect = CountVectorizer().fit(X_train)\n",
    "    X_train_vectorized = vect.transform(X_train)\n",
    "    \n",
    "    NB = MultinomialNB(alpha=0.1).fit(X_train_vectorized, y_train)\n",
    "    # alpha:  Additive (Laplace/Lidstone) smoothing parameter   (0 for no smoothing).\n",
    "    \n",
    "    \n",
    "    X_test_vectorized = vect.transform(X_test)\n",
    "    y_score = NB.predict_proba(X_test_vectorized)\n",
    "    \n",
    "    auc = roc_auc_score(y_test, y_score[:,1])  # second column proba is for positive class\n",
    "    # y_score : array, shape = [n_samples] or [n_samples, n_classes]\n",
    "    #Target scores, can either be probability estimates of the positive class, confidence values, \n",
    "    # or non-thresholded measure of decisions (as returned by \"decision_function\" on some classifiers).\n",
    "    \n",
    "    return auc #Your answer here"
   ]
  },
  {
   "cell_type": "code",
   "execution_count": 66,
   "metadata": {},
   "outputs": [
    {
     "data": {
      "text/plain": [
       "0.99154542213469599"
      ]
     },
     "execution_count": 66,
     "metadata": {},
     "output_type": "execute_result"
    }
   ],
   "source": [
    "answer_three()"
   ]
  },
  {
   "cell_type": "markdown",
   "metadata": {},
   "source": [
    "### Question 4\n",
    "\n",
    "Fit and transform the training data `X_train` using a Tfidf Vectorizer with default parameters.\n",
    "\n",
    "What 20 features have the smallest tf-idf and what 20 have the largest tf-idf?\n",
    "\n",
    "Put these features in a two series where each series is sorted by tf-idf value and then alphabetically by feature name. The index of the series should be the feature name, and the data should be the tf-idf.\n",
    "\n",
    "The series of 20 features with smallest tf-idfs should be sorted smallest tfidf first, the list of 20 features with largest tf-idfs should be sorted largest first. \n",
    "\n",
    "*This function should return a tuple of two series\n",
    "`(smallest tf-idfs series, largest tf-idfs series)`.*"
   ]
  },
  {
   "cell_type": "code",
   "execution_count": 67,
   "metadata": {
    "collapsed": true
   },
   "outputs": [],
   "source": [
    "from sklearn.feature_extraction.text import TfidfVectorizer\n",
    "\n",
    "def answer_four():\n",
    "    vect = TfidfVectorizer().fit(X_train)\n",
    "    X_train_vectorized = vect.transform(X_train)\n",
    "    \n",
    "    \n",
    "    feature_names = np.array(vect.get_feature_names())\n",
    "\n",
    "    sorted_tfidf_index = X_train_vectorized.max(0).toarray()[0].argsort()\n",
    "    \n",
    "    tfidf = X_train_vectorized.max(0).toarray()[0]\n",
    "    sorted_tfidf = np.sort(tfidf)\n",
    "    \n",
    "\n",
    "    \n",
    "    #print('Smallest tfidf:\\n{}\\n'.format(feature_names[sorted_tfidf_index[:20]]))\n",
    "    #print('Largest tfidf: \\n{}'.format(feature_names[sorted_tfidf_index[:-21:-1]]))\n",
    "    \n",
    "    #for idx in sorted_tfidf_index[:-21:-1]:\n",
    "    #    print(\"\\nFeature name: \", feature_names[idx], \"-- tfidf value: \", tfidf[idx])\n",
    "    \n",
    "    smallest = pd.Series(data=tfidf[sorted_tfidf_index[:20]] ,index=feature_names[sorted_tfidf_index[:20]])\n",
    "    largest = pd.Series(data=tfidf[sorted_tfidf_index[:-21:-1]] ,index=feature_names[sorted_tfidf_index[:-21:-1]]) \n",
    "    # lopusta väärään suuntaan, 20 viimeistä\n",
    "    \n",
    "    smallest = smallest.iloc[np.lexsort([smallest.index, smallest.values])]\n",
    "    largest = largest.iloc[np.lexsort([largest.index, largest.values])]\n",
    "    \n",
    "    return smallest, largest\n",
    "    #return sorted_tfidf\n",
    "    #return X_train_vectorized\n",
    "    #return X_train_vectorized[0, sorted_tfidf_index]#Your answer here"
   ]
  },
  {
   "cell_type": "code",
   "execution_count": 68,
   "metadata": {},
   "outputs": [
    {
     "name": "stdout",
     "output_type": "stream",
     "text": [
      "(aaniye          0.074475\n",
      "athletic        0.074475\n",
      "chef            0.074475\n",
      "companion       0.074475\n",
      "courageous      0.074475\n",
      "dependable      0.074475\n",
      "determined      0.074475\n",
      "exterminator    0.074475\n",
      "healer          0.074475\n",
      "listener        0.074475\n",
      "organizer       0.074475\n",
      "pest            0.074475\n",
      "psychiatrist    0.074475\n",
      "psychologist    0.074475\n",
      "pudunga         0.074475\n",
      "stylist         0.074475\n",
      "sympathetic     0.074475\n",
      "venaam          0.074475\n",
      "diwali          0.091250\n",
      "mornings        0.091250\n",
      "dtype: float64, blank        0.932702\n",
      "tick         0.980166\n",
      "146tf150p    1.000000\n",
      "645          1.000000\n",
      "anything     1.000000\n",
      "anytime      1.000000\n",
      "beerage      1.000000\n",
      "done         1.000000\n",
      "er           1.000000\n",
      "havent       1.000000\n",
      "home         1.000000\n",
      "lei          1.000000\n",
      "nite         1.000000\n",
      "ok           1.000000\n",
      "okie         1.000000\n",
      "thank        1.000000\n",
      "thanx        1.000000\n",
      "too          1.000000\n",
      "where        1.000000\n",
      "yup          1.000000\n",
      "dtype: float64)\n"
     ]
    }
   ],
   "source": [
    "print(answer_four())"
   ]
  },
  {
   "cell_type": "markdown",
   "metadata": {},
   "source": [
    "### Question 5\n",
    "\n",
    "Fit and transform the training data `X_train` using a Tfidf Vectorizer ignoring terms that have a document frequency strictly lower than **3**.\n",
    "\n",
    "Then fit a multinomial Naive Bayes classifier model with smoothing `alpha=0.1` and compute the area under the curve (AUC) score using the transformed test data.\n",
    "\n",
    "*This function should return the AUC score as a float.*"
   ]
  },
  {
   "cell_type": "code",
   "execution_count": 69,
   "metadata": {
    "collapsed": true
   },
   "outputs": [],
   "source": [
    "def answer_five():\n",
    "    vect = TfidfVectorizer(min_df=3).fit(X_train)  \n",
    "    # min_df: ignore terms that have a document frequency strictly lower than \n",
    "    #the given threshold. If float, the parameter represents a proportion of documents, integer absolute counts\n",
    "    \n",
    "    X_train_vectorized = vect.transform(X_train)\n",
    "    X_test_vectorized = vect.transform(X_test)\n",
    "    \n",
    "    from sklearn.naive_bayes import MultinomialNB\n",
    "    clf = MultinomialNB(alpha=0.1).fit(X_train_vectorized, y_train)\n",
    "    \n",
    "    y_pred_proba = clf.predict_proba(X_test_vectorized)\n",
    "    \n",
    "    from sklearn.metrics import roc_auc_score\n",
    "    auc = roc_auc_score(y_test, y_pred_proba[:,1])\n",
    "    \n",
    "    return auc#Your answer here"
   ]
  },
  {
   "cell_type": "code",
   "execution_count": 70,
   "metadata": {},
   "outputs": [
    {
     "data": {
      "text/plain": [
       "0.99549683377756659"
      ]
     },
     "execution_count": 70,
     "metadata": {},
     "output_type": "execute_result"
    }
   ],
   "source": [
    "answer_five()"
   ]
  },
  {
   "cell_type": "markdown",
   "metadata": {},
   "source": [
    "### Question 6\n",
    "\n",
    "What is the average length of documents (number of characters) for not spam and spam documents?\n",
    "\n",
    "*This function should return a tuple (average length not spam, average length spam).*"
   ]
  },
  {
   "cell_type": "code",
   "execution_count": 71,
   "metadata": {
    "collapsed": true
   },
   "outputs": [],
   "source": [
    "def answer_six():\n",
    "    avgLens = (spam_data.groupby(\"target\")[\"text\"]\n",
    "                        .apply(lambda x: np.mean(x.str.len()))\n",
    "              )\n",
    "    \n",
    "    return avgLens.iloc[0], avgLens.iloc[1]#Your answer here"
   ]
  },
  {
   "cell_type": "code",
   "execution_count": 72,
   "metadata": {},
   "outputs": [
    {
     "data": {
      "text/plain": [
       "(71.023626943005183, 138.8661311914324)"
      ]
     },
     "execution_count": 72,
     "metadata": {},
     "output_type": "execute_result"
    }
   ],
   "source": [
    "answer_six()\n",
    "#spam_data.head()\n",
    "#print(spam_data.text.str.len)"
   ]
  },
  {
   "cell_type": "markdown",
   "metadata": {},
   "source": [
    "<br>\n",
    "<br>\n",
    "The following function has been provided to help you combine new features into the training data:"
   ]
  },
  {
   "cell_type": "code",
   "execution_count": 73,
   "metadata": {
    "collapsed": true
   },
   "outputs": [],
   "source": [
    "def add_feature(X, feature_to_add):\n",
    "    \"\"\"\n",
    "    Returns sparse feature matrix with added feature.\n",
    "    feature_to_add can also be a list of features.\n",
    "    \"\"\"\n",
    "    from scipy.sparse import csr_matrix, hstack\n",
    "    return hstack([X, csr_matrix(feature_to_add).T], 'csr')"
   ]
  },
  {
   "cell_type": "markdown",
   "metadata": {},
   "source": [
    "### Question 7\n",
    "\n",
    "Fit and transform the training data X_train using a Tfidf Vectorizer ignoring terms that have a document frequency strictly lower than **5**.\n",
    "\n",
    "Using this document-term matrix and an additional feature, **the length of document (number of characters)**, fit a Support Vector Classification model with regularization `C=10000`. Then compute the area under the curve (AUC) score using the transformed test data.\n",
    "\n",
    "*This function should return the AUC score as a float.*"
   ]
  },
  {
   "cell_type": "code",
   "execution_count": 74,
   "metadata": {
    "collapsed": true
   },
   "outputs": [],
   "source": [
    "from sklearn.svm import SVC\n",
    "\n",
    "def answer_seven():\n",
    "    vect = TfidfVectorizer(min_df=5).fit(X_train)\n",
    "    \n",
    "    X_train_vectorized = vect.transform(X_train)\n",
    "    X_test_vectorized = vect.transform(X_test)\n",
    "    \n",
    "    #length of the document in chars\n",
    "    doc_lengths_train = X_train.str.len()\n",
    "    doc_lengths_test = X_test.str.len()\n",
    "    \n",
    "    \n",
    "    X_train_vectorized = add_feature(X_train_vectorized, doc_lengths_train)\n",
    "    X_test_vectorized = add_feature(X_test_vectorized, doc_lengths_test)\n",
    "    \n",
    "    clf = SVC(C=10000).fit(X_train_vectorized, y_train)\n",
    "    y_pred_scores = clf.decision_function(X_test_vectorized)\n",
    "    \n",
    "    auc = roc_auc_score(y_test, y_pred_scores)\n",
    "    \n",
    "    \n",
    "    return auc#Your answer here"
   ]
  },
  {
   "cell_type": "code",
   "execution_count": 75,
   "metadata": {},
   "outputs": [
    {
     "data": {
      "text/plain": [
       "0.99511060557187236"
      ]
     },
     "execution_count": 75,
     "metadata": {},
     "output_type": "execute_result"
    }
   ],
   "source": [
    "answer_seven()\n",
    "#X_train.head()\n",
    "#doc_lengths = X_train.str.len()\n",
    "#doc_lengths "
   ]
  },
  {
   "cell_type": "markdown",
   "metadata": {},
   "source": [
    "### Question 8\n",
    "\n",
    "What is the average number of digits per document for not spam and spam documents?\n",
    "\n",
    "*This function should return a tuple (average # digits not spam, average # digits spam).*"
   ]
  },
  {
   "cell_type": "code",
   "execution_count": 76,
   "metadata": {
    "collapsed": true
   },
   "outputs": [],
   "source": [
    "def answer_eight():\n",
    "    #avg_nbr_digits = (spam_data.groupby(\"target\")[\"text\"]\n",
    "    #                  .apply(lambda x: np.mean(np.sum(char.isdigit() for char in x)))\n",
    "    #                )\n",
    "    tempdata = spam_data.copy()\n",
    "    tempdata[\"digits\"] = tempdata[\"text\"].apply(lambda x: np.sum(char.isdigit() for char in x))\n",
    "    \n",
    "    avg_nbr_digits = tempdata.groupby(\"target\")[\"digits\"].mean()\n",
    "    \n",
    "    return float(avg_nbr_digits.loc[0]), float(avg_nbr_digits.loc[1])#Your answer here\n",
    "    #return avg_nbr_digits"
   ]
  },
  {
   "cell_type": "code",
   "execution_count": 77,
   "metadata": {},
   "outputs": [
    {
     "data": {
      "text/plain": [
       "(0.2992746113989637, 15.759036144578314)"
      ]
     },
     "execution_count": 77,
     "metadata": {},
     "output_type": "execute_result"
    }
   ],
   "source": [
    "answer_eight()\n",
    "#type(answer_eight()[0])\n",
    "#spam_data.head()"
   ]
  },
  {
   "cell_type": "markdown",
   "metadata": {},
   "source": [
    "### Question 9\n",
    "\n",
    "Fit and transform the training data `X_train` using a Tfidf Vectorizer ignoring terms that have a document frequency strictly lower than **5** and using **word n-grams from n=1 to n=3** (unigrams, bigrams, and trigrams).\n",
    "\n",
    "Using this document-term matrix and the following additional features:\n",
    "* the length of document (number of characters)\n",
    "* **number of digits per document**\n",
    "\n",
    "fit a Logistic Regression model with regularization `C=100`. Then compute the area under the curve (AUC) score using the transformed test data.\n",
    "\n",
    "*This function should return the AUC score as a float.*"
   ]
  },
  {
   "cell_type": "code",
   "execution_count": 88,
   "metadata": {
    "collapsed": true
   },
   "outputs": [],
   "source": [
    "from sklearn.linear_model import LogisticRegression\n",
    "\n",
    "def answer_nine():\n",
    "    vect = TfidfVectorizer(min_df=5, ngram_range=(1,3), analyzer='word').fit(X_train)\n",
    "    \n",
    "    X_train_vectorized = vect.transform(X_train)\n",
    "    X_test_vectorized = vect.transform(X_test)\n",
    "    \n",
    "    \n",
    "    #length of the document in chars\n",
    "    doc_lengths_train = X_train.str.len()\n",
    "    doc_lengths_test = X_test.str.len()\n",
    "        \n",
    "    nbr_digits_train = X_train.apply(lambda x: np.sum(char.isdigit() for char in x))\n",
    "    nbr_digits_test = X_test.apply(lambda x: np.sum(char.isdigit() for char in x))\n",
    "    \n",
    "\n",
    "    # Combine\n",
    "    X_train_vectorized = add_feature(X_train_vectorized, doc_lengths_train)\n",
    "    X_test_vectorized = add_feature(X_test_vectorized, doc_lengths_test)\n",
    "    X_train_vectorized = add_feature(X_train_vectorized, nbr_digits_train)\n",
    "    X_test_vectorized = add_feature(X_test_vectorized, nbr_digits_test)\n",
    "    \n",
    "    clf = LogisticRegression(C=100).fit(X_train_vectorized, y_train)\n",
    "    \n",
    "    # One should use y_proba with auc but it is known issue that this does not work with the autograder\n",
    "    # Use y_pred instead\n",
    "    y_proba = clf.predict_proba(X_test_vectorized)[:,1]  # for pos class 1\n",
    "    y_pred = clf.predict(X_test_vectorized) \n",
    "    \n",
    "    \n",
    "    #auc = roc_auc_score(y_test, y_proba)\n",
    "    auc = roc_auc_score(y_test, y_pred)\n",
    "    \n",
    "    return float(auc)#Your answer here\n",
    "    #return nbr_digits_train\n",
    "\n",
    "\n",
    "# VÄÄRIN"
   ]
  },
  {
   "cell_type": "code",
   "execution_count": 89,
   "metadata": {},
   "outputs": [
    {
     "data": {
      "text/plain": [
       "0.9653328353394565"
      ]
     },
     "execution_count": 89,
     "metadata": {},
     "output_type": "execute_result"
    }
   ],
   "source": [
    "\n",
    "answer_nine()\n",
    "#type(answer_nine())\n",
    "#answer_nine()\n",
    "#X_train\n",
    "#X_train.apply(lambda x: np.sum(char.isdigit() for char in x))\n",
    "\n",
    "\n",
    "# y_predillä: 0.9653328353394565"
   ]
  },
  {
   "cell_type": "markdown",
   "metadata": {},
   "source": [
    "### Question 10\n",
    "\n",
    "What is the average number of non-word characters (anything other than a letter, digit or underscore) per document for not spam and spam documents?\n",
    "\n",
    "*Hint: Use `\\w` and `\\W` character classes*\n",
    "\n",
    "*This function should return a tuple (average # non-word characters not spam, average # non-word characters spam).*"
   ]
  },
  {
   "cell_type": "code",
   "execution_count": 80,
   "metadata": {
    "collapsed": true
   },
   "outputs": [],
   "source": [
    "import re\n",
    "\n",
    "def answer_ten():\n",
    "    tempd = spam_data.copy()\n",
    "    #tempd[\"nonWordChars\"] = tempd[\"text\"].apply(lambda x: np.mean(len(x) - np.sum(char.isalnum() for char in x)))\n",
    "    tempd[\"nonWordChars\"] = tempd[\"text\"].apply(lambda x: len(re.findall('\\W', x)))\n",
    "    \n",
    "    avg_len_nonword = tempd.groupby(\"target\")[\"nonWordChars\"].mean()\n",
    "    #avg_len_nonword = (spam_data.groupby(\"target\")\n",
    "    #                   .apply(lambda x: np.mean(len(x) - np.sum(char.isalnum() for char in x)))\n",
    "    #)\n",
    "    \n",
    "    #return tempd\n",
    "    return float(avg_len_nonword.loc[0]), float(avg_len_nonword.loc[1]) #Your answer here\n",
    "\n",
    "\n",
    "# WRONG. alnum ei ole sama kuin /w... fiksaa"
   ]
  },
  {
   "cell_type": "code",
   "execution_count": 81,
   "metadata": {},
   "outputs": [
    {
     "data": {
      "text/plain": [
       "(17.29181347150259, 29.041499330655956)"
      ]
     },
     "execution_count": 81,
     "metadata": {},
     "output_type": "execute_result"
    }
   ],
   "source": [
    "answer_ten()"
   ]
  },
  {
   "cell_type": "markdown",
   "metadata": {},
   "source": [
    "### Question 11\n",
    "\n",
    "Fit and transform the training data X_train using a Count Vectorizer ignoring terms that have a document frequency strictly lower than **5** and using **character n-grams from n=2 to n=5.**\n",
    "\n",
    "To tell Count Vectorizer to use character n-grams pass in `analyzer='char_wb'` which creates character n-grams only from text inside word boundaries. This should make the model more robust to spelling mistakes.\n",
    "\n",
    "Using this document-term matrix and the following additional features:\n",
    "* the length of document (number of characters)\n",
    "* number of digits per document\n",
    "* **number of non-word characters (anything other than a letter, digit or underscore.)**\n",
    "\n",
    "fit a Logistic Regression model with regularization C=100. Then compute the area under the curve (AUC) score using the transformed test data.\n",
    "\n",
    "Also **find the 10 smallest and 10 largest coefficients from the model** and return them along with the AUC score in a tuple.\n",
    "\n",
    "The list of 10 smallest coefficients should be sorted smallest first, the list of 10 largest coefficients should be sorted largest first.\n",
    "\n",
    "The three features that were added to the document term matrix should have the following names should they appear in the list of coefficients:\n",
    "['length_of_doc', 'digit_count', 'non_word_char_count']\n",
    "\n",
    "*This function should return a tuple `(AUC score as a float, smallest coefs list, largest coefs list)`.*"
   ]
  },
  {
   "cell_type": "code",
   "execution_count": 90,
   "metadata": {
    "collapsed": true
   },
   "outputs": [],
   "source": [
    "#from sklearn\n",
    "\n",
    "def answer_eleven():\n",
    "    vect = CountVectorizer(min_df=5, ngram_range=(2,5), analyzer='char_wb').fit(X_train)\n",
    "    # creates character n-grams (from 2 to 5 chars) only from text inside word boundaries\n",
    "    \n",
    "    \n",
    "    feature_names = vect.get_feature_names()  # list, append new feature names as we go\n",
    "    \n",
    "    X_train_vectorized = vect.transform(X_train)\n",
    "    X_test_vectorized = vect.transform(X_test)\n",
    "    \n",
    "    #length of the document in chars\n",
    "    doc_lengths_train = X_train.str.len()\n",
    "    doc_lengths_test = X_test.str.len()\n",
    "    \n",
    "    # nbr of digits\n",
    "    nbr_digits_train = X_train.apply(lambda x: np.sum(char.isdigit() for char in x))\n",
    "    nbr_digits_test = X_test.apply(lambda x: np.sum(char.isdigit() for char in x))\n",
    "    \n",
    "    # nbr of nonword chars\n",
    "    nbr_nonword_train = X_train.apply(lambda x: len(re.findall('\\W', x)))\n",
    "    nbr_nonword_test = X_test.apply(lambda x: len(re.findall('\\W', x)))\n",
    "\n",
    "    \n",
    "    # Combine\n",
    "    X_train_vectorized = add_feature(X_train_vectorized, doc_lengths_train)\n",
    "    X_test_vectorized = add_feature(X_test_vectorized, doc_lengths_test)\n",
    "    \n",
    "    X_train_vectorized = add_feature(X_train_vectorized, nbr_digits_train)\n",
    "    X_test_vectorized = add_feature(X_test_vectorized, nbr_digits_test)\n",
    "    \n",
    "    X_train_vectorized = add_feature(X_train_vectorized, nbr_nonword_train)\n",
    "    X_test_vectorized = add_feature(X_test_vectorized, nbr_nonword_test)  \n",
    "    \n",
    "    # Need to add new feature names (error otherwise because the new feature(s) appear later in the top10 list)\n",
    "    #feature_names.append(['length_of_doc', 'digit_count', 'non_word_char_count'])  \n",
    "    # this appends whole list as one element. Does not work. How to \"unpack\"?\n",
    "    \n",
    "    # append appends an object\n",
    "    # extend Extends list by appending elements from the iterable.\n",
    "    feature_names.extend(['length_of_doc', 'digit_count', 'non_word_char_count'])  \n",
    "\n",
    "    # Train model\n",
    "    clf = LogisticRegression(C=100).fit(X_train_vectorized, y_train)\n",
    "    y_score = clf.predict_proba(X_test_vectorized)\n",
    "    \n",
    "    # known issue with auc calculation. Workaround that is wrong itself, use y_pred instead of y_score\n",
    "    y_pred = clf.predict(X_test_vectorized)\n",
    "    \n",
    "    # auc score\n",
    "    #auc = roc_auc_score(y_test, y_score[:,1])  # proba for class 1\n",
    "    auc = roc_auc_score(y_test, y_pred)\n",
    "    \n",
    "    # Also find the 10 smallest and 10 largest coefficients from the model and \n",
    "    # return them along with the AUC score in a tuple.\n",
    "    \n",
    "    # feat names into np array\n",
    "    feature_names = np.array(feature_names)\n",
    "    \n",
    "    sorted_coef_index = clf.coef_[0].argsort()   # sort from small to large\n",
    "    \n",
    "    smallest_coefs = feature_names[sorted_coef_index[:10]]\n",
    "    largest_coefs = feature_names[sorted_coef_index[:-11:-1]]\n",
    "    \n",
    "    \n",
    "    return float(auc), smallest_coefs.tolist(), largest_coefs.tolist() #these were ndarrays, lists wanted"
   ]
  },
  {
   "cell_type": "code",
   "execution_count": 91,
   "metadata": {},
   "outputs": [
    {
     "data": {
      "text/plain": [
       "(0.9788593110707434,\n",
       " ['. ', '..', '? ', ' i', ' y', ' go', ':)', ' h', 'go', ' m'],\n",
       " ['digit_count', 'ne', 'ia', 'co', 'xt', ' ch', 'mob', ' x', 'ww', 'ar'])"
      ]
     },
     "execution_count": 91,
     "metadata": {},
     "output_type": "execute_result"
    }
   ],
   "source": [
    "answer_eleven()\n",
    "#X_train.apply(lambda x: len(re.findall('\\W', x)))\n",
    "\n",
    "#vect = CountVectorizer(min_df=5, ngram_range=(2,5), analyzer='char_wb').fit(X_train)\n",
    "\n",
    "#n = vect.get_feature_names()[:10]\n",
    "#n.extend(['length_of_doc', 'digit_count', 'non_word_char_count'])\n",
    "#n"
   ]
  }
 ],
 "metadata": {
  "coursera": {
   "course_slug": "python-text-mining",
   "graded_item_id": "Pn19K",
   "launcher_item_id": "y1juS",
   "part_id": "ctlgo"
  },
  "kernelspec": {
   "display_name": "Python 3",
   "language": "python",
   "name": "python3"
  },
  "language_info": {
   "codemirror_mode": {
    "name": "ipython",
    "version": 3
   },
   "file_extension": ".py",
   "mimetype": "text/x-python",
   "name": "python",
   "nbconvert_exporter": "python",
   "pygments_lexer": "ipython3",
   "version": "3.7.3"
  },
  "varInspector": {
   "cols": {
    "lenName": 16,
    "lenType": 16,
    "lenVar": 40
   },
   "kernels_config": {
    "python": {
     "delete_cmd_postfix": "",
     "delete_cmd_prefix": "del ",
     "library": "var_list.py",
     "varRefreshCmd": "print(var_dic_list())"
    },
    "r": {
     "delete_cmd_postfix": ") ",
     "delete_cmd_prefix": "rm(",
     "library": "var_list.r",
     "varRefreshCmd": "cat(var_dic_list()) "
    }
   },
   "types_to_exclude": [
    "module",
    "function",
    "builtin_function_or_method",
    "instance",
    "_Feature"
   ],
   "window_display": false
  }
 },
 "nbformat": 4,
 "nbformat_minor": 2
}
