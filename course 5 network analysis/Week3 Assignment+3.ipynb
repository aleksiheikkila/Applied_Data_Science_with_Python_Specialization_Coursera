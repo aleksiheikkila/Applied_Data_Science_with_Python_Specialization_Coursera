{
 "cells": [
  {
   "cell_type": "markdown",
   "metadata": {},
   "source": [
    "---\n",
    "\n",
    "_You are currently looking at **version 1.2** of this notebook. To download notebooks and datafiles, as well as get help on Jupyter notebooks in the Coursera platform, visit the [Jupyter Notebook FAQ](https://www.coursera.org/learn/python-social-network-analysis/resources/yPcBs) course resource._\n",
    "\n",
    "---"
   ]
  },
  {
   "cell_type": "markdown",
   "metadata": {},
   "source": [
    "# Assignment 3\n",
    "\n",
    "In this assignment you will explore measures of centrality on two networks, a friendship network in Part 1, and a blog network in Part 2."
   ]
  },
  {
   "cell_type": "markdown",
   "metadata": {},
   "source": [
    "## Part 1\n",
    "\n",
    "Answer questions 1-4 using the network `G1`, a network of friendships at a university department. Each node corresponds to a person, and an edge indicates friendship. \n",
    "\n",
    "*The network has been loaded as networkx graph object `G1`.*"
   ]
  },
  {
   "cell_type": "code",
   "execution_count": 1,
   "metadata": {
    "collapsed": true
   },
   "outputs": [],
   "source": [
    "import networkx as nx\n",
    " \n",
    "G1 = nx.read_gml('friendships.gml')\n",
    "# Geography Markup Language (GML) is the XML grammar defined by the Open Geospatial Consortium (OGC) \n",
    "# to express geographical features.\n",
    "\n",
    "# undirected\n",
    "\n",
    "# rest of the cell for the quiz...\n",
    "#G_quiz = nx.DiGraph()\n",
    "#G_quiz.add_edge(\"B\", \"A\")\n",
    "#G_quiz.add_edge(\"A\", \"B\")\n",
    "#G_quiz.add_edge(\"A\", \"C\")\n",
    "#G_quiz.add_edge(\"C\", \"D\")\n",
    "#G_quiz.add_edge(\"D\", \"C\")\n",
    "\n",
    "\n",
    "#import numpy as np\n",
    "#import pandas as pd\n",
    "#%matplotlib notebook\n",
    "#nx.draw_networkx(G_quiz)\n",
    "\n",
    "#alphas = [0.5, 0.8, 0.9, 0.95]\n",
    "\n",
    "#for a in alphas:\n",
    "#    print(nx.pagerank(G_quiz, a))\n",
    "    \n"
   ]
  },
  {
   "cell_type": "markdown",
   "metadata": {},
   "source": [
    "### Question 1\n",
    "\n",
    "Find the degree centrality, closeness centrality, and normalized betweeness centrality (excluding endpoints) of node 100.\n",
    "\n",
    "*This function should return a tuple of floats `(degree_centrality, closeness_centrality, betweenness_centrality)`.*"
   ]
  },
  {
   "cell_type": "code",
   "execution_count": 2,
   "metadata": {},
   "outputs": [
    {
     "data": {
      "text/plain": [
       "(0.0026501766784452294, 0.2654784240150094, 7.142902633244772e-05)"
      ]
     },
     "execution_count": 2,
     "metadata": {},
     "output_type": "execute_result"
    }
   ],
   "source": [
    "def answer_one():\n",
    "        \n",
    "    # Your Code Here\n",
    "    degCent = nx.degree_centrality(G1)   # num connections\n",
    "    \n",
    "    closeCent = nx.closeness_centrality(G1, normalized=False)   # shortest dist to the rest, on avg\n",
    "    \n",
    "    betwCent = nx.betweenness_centrality(G1,normalized=True, endpoints=False)   \n",
    "    # on many shortest path between some nodes\n",
    "    \n",
    "    \n",
    "    return degCent[100], closeCent[100], betwCent[100]# Your Answer \n",
    "                                                  \n",
    "answer_one()                                                  \n",
    "                                "
   ]
  },
  {
   "cell_type": "markdown",
   "metadata": {},
   "source": [
    "<br>\n",
    "#### For Questions 2, 3, and 4, assume that you do not know anything about the structure of the network, except for the all the centrality values of the nodes. That is, use one of the covered centrality measures to rank the nodes and find the most appropriate candidate.\n",
    "<br>"
   ]
  },
  {
   "cell_type": "markdown",
   "metadata": {},
   "source": [
    "### Question 2\n",
    "\n",
    "Suppose you are employed by an online shopping website and are tasked with selecting one user in network G1 to send an online shopping voucher to. We expect that the user who receives the voucher will send it to their friends in the network.  You want the voucher to reach as many nodes as possible. The voucher can be forwarded to multiple users at the same time, but the travel distance of the voucher is limited to one step, which means if the voucher travels more than one step in this network, it is no longer valid. Apply your knowledge in network centrality to select the best candidate for the voucher. \n",
    "\n",
    "*This function should return an integer, the name of the node.*"
   ]
  },
  {
   "cell_type": "code",
   "execution_count": 3,
   "metadata": {
    "scrolled": true
   },
   "outputs": [
    {
     "data": {
      "text/plain": [
       "105"
      ]
     },
     "execution_count": 3,
     "metadata": {},
     "output_type": "execute_result"
    }
   ],
   "source": [
    "def answer_two():\n",
    "        \n",
    "    # Your Code Here\n",
    "\n",
    "    DegCent = nx.degree_centrality(G1)  # out deg cent only for diGraphs\n",
    "\n",
    "    #print(DegCent)\n",
    "    # dict key:val\n",
    "    \n",
    "    values = list(DegCent.values())\n",
    "    keys = list(DegCent.keys())\n",
    "    maxnode = keys[values.index(max(values))]\n",
    "    \n",
    "    # [\"foo\", \"bar\", \"baz\"].index(\"bar\")  =>  1 . Give the index where the list has value \"bar\"\n",
    "    \n",
    "    \n",
    "    return int(maxnode)# Your Answer Here\n",
    "\n",
    "answer_two()"
   ]
  },
  {
   "cell_type": "markdown",
   "metadata": {},
   "source": [
    "### Question 3\n",
    "\n",
    "Now the limit of the voucher’s travel distance has been removed. Because the network is connected, regardless of who you pick, every node in the network will eventually receive the voucher. However, we now want to ensure that the voucher reaches the nodes in the lowest average number of hops.\n",
    "\n",
    "How would you change your selection strategy? Write a function to tell us who is the best candidate in the network under this condition.\n",
    "\n",
    "*This function should return an integer, the name of the node.*"
   ]
  },
  {
   "cell_type": "code",
   "execution_count": 4,
   "metadata": {
    "scrolled": false
   },
   "outputs": [
    {
     "data": {
      "text/plain": [
       "23"
      ]
     },
     "execution_count": 4,
     "metadata": {},
     "output_type": "execute_result"
    }
   ],
   "source": [
    "def answer_three():\n",
    "        \n",
    "    # Your Code Here\n",
    "    # node with lowest average path length to all the rest\n",
    "    #pathLens = nx.shortest_path_length(G1)\n",
    "    \n",
    "    # closeness centrality suurin\n",
    "    closeCent = nx.closeness_centrality(G1)\n",
    "    \n",
    "    v = list(closeCent.values())\n",
    "    k = list(closeCent.keys())    \n",
    "    minCloseCentNode = k[v.index(max(v))]\n",
    "    \n",
    "    #print(closeCent)\n",
    "    return int(minCloseCentNode)# Your Answer Here\n",
    "\n",
    "answer_three()"
   ]
  },
  {
   "cell_type": "markdown",
   "metadata": {},
   "source": [
    "### Question 4\n",
    "\n",
    "Assume the restriction on the voucher’s travel distance is still removed, but now a competitor has developed a strategy to remove a person from the network in order to disrupt the distribution of your company’s voucher. Your competitor is specifically targeting people who are often bridges of information flow between other pairs of people. Identify the single riskiest person to be removed under your competitor’s strategy?\n",
    "\n",
    "*This function should return an integer, the name of the node.*"
   ]
  },
  {
   "cell_type": "code",
   "execution_count": 5,
   "metadata": {},
   "outputs": [
    {
     "data": {
      "text/plain": [
       "333"
      ]
     },
     "execution_count": 5,
     "metadata": {},
     "output_type": "execute_result"
    }
   ],
   "source": [
    "def answer_four():\n",
    "        \n",
    "    # Your Code Here\n",
    "    # \"Most like a bridge?\". On most shortest paths\n",
    "    # max. betweenness centrality\n",
    "    \n",
    "    betwCent = nx.betweenness_centrality(G1)\n",
    "    \n",
    "    k = list(betwCent.keys())\n",
    "    v = list(betwCent.values())\n",
    "    \n",
    "    maxBetwCent = k[v.index(max(v))]\n",
    "    \n",
    "    return maxBetwCent# Your Answer Here\n",
    "\n",
    "answer_four()"
   ]
  },
  {
   "cell_type": "markdown",
   "metadata": {
    "collapsed": true
   },
   "source": [
    "## Part 2\n",
    "\n",
    "`G2` is a directed network of political blogs, where nodes correspond to a blog and edges correspond to links between blogs. Use your knowledge of PageRank and HITS to answer Questions 5-9."
   ]
  },
  {
   "cell_type": "code",
   "execution_count": 6,
   "metadata": {
    "collapsed": true
   },
   "outputs": [],
   "source": [
    "G2 = nx.read_gml('blogs.gml')\n",
    "\n",
    "# directed!"
   ]
  },
  {
   "cell_type": "markdown",
   "metadata": {},
   "source": [
    "### Question 5\n",
    "\n",
    "Apply the Scaled Page Rank Algorithm to this network. Find the Page Rank of node 'realclearpolitics.com' with damping value 0.85.\n",
    "\n",
    "*This function should return a float.*"
   ]
  },
  {
   "cell_type": "code",
   "execution_count": 7,
   "metadata": {},
   "outputs": [
    {
     "data": {
      "text/plain": [
       "0.004636694781649093"
      ]
     },
     "execution_count": 7,
     "metadata": {},
     "output_type": "execute_result"
    }
   ],
   "source": [
    "def answer_five():\n",
    "        \n",
    "    # Your Code Here\n",
    "    alpha = 0.85 # damping value\n",
    "    \n",
    "    pr = nx.pagerank(G2, alpha=alpha)\n",
    "    #print(pr) # dict. Name (site) and PR\n",
    "    \n",
    "    return pr['realclearpolitics.com']# Your Answer Here\n",
    "\n",
    "\n",
    "answer_five()"
   ]
  },
  {
   "cell_type": "markdown",
   "metadata": {},
   "source": [
    "### Question 6\n",
    "\n",
    "Apply the Scaled Page Rank Algorithm to this network with damping value 0.85. Find the 5 nodes with highest Page Rank. \n",
    "\n",
    "*This function should return a list of the top 5 blogs in desending order of Page Rank.*"
   ]
  },
  {
   "cell_type": "code",
   "execution_count": 8,
   "metadata": {},
   "outputs": [
    {
     "data": {
      "text/plain": [
       "['dailykos.com',\n",
       " 'atrios.blogspot.com',\n",
       " 'instapundit.com',\n",
       " 'blogsforbush.com',\n",
       " 'talkingpointsmemo.com']"
      ]
     },
     "execution_count": 8,
     "metadata": {},
     "output_type": "execute_result"
    }
   ],
   "source": [
    "def answer_six():\n",
    "        \n",
    "    # Your Code Here\n",
    "    alpha = 0.85 # damping value\n",
    "    pr = nx.pagerank(G2, alpha=alpha)\n",
    "\n",
    "    from heapq import nlargest  # one way to get the \"top 5\"\n",
    "    five_largest = nlargest(5, pr, key=pr.get)\n",
    "    \n",
    "    return five_largest# Your Answer Here\n",
    "\n",
    "\n",
    "answer_six()"
   ]
  },
  {
   "cell_type": "markdown",
   "metadata": {
    "collapsed": true
   },
   "source": [
    "### Question 7\n",
    "\n",
    "Apply the HITS Algorithm to the network to find the hub and authority scores of node 'realclearpolitics.com'. \n",
    "\n",
    "*Your result should return a tuple of floats `(hub_score, authority_score)`.*"
   ]
  },
  {
   "cell_type": "code",
   "execution_count": 12,
   "metadata": {},
   "outputs": [
    {
     "data": {
      "text/plain": [
       "(0.000324355614091667, 0.003918957645699856)"
      ]
     },
     "execution_count": 12,
     "metadata": {},
     "output_type": "execute_result"
    }
   ],
   "source": [
    "def answer_seven():\n",
    "        \n",
    "    # Your Code Here\n",
    "    hub, auth = nx.hits(G2)\n",
    "    \n",
    "    #print(hub)  # dict - key:score\n",
    "    \n",
    "    return hub['realclearpolitics.com'], auth['realclearpolitics.com']# Your Answer Here\n",
    "\n",
    "answer_seven()"
   ]
  },
  {
   "cell_type": "markdown",
   "metadata": {
    "collapsed": true
   },
   "source": [
    "### Question 8 \n",
    "\n",
    "Apply the HITS Algorithm to this network to find the 5 nodes with highest hub scores.\n",
    "\n",
    "*This function should return a list of the top 5 blogs in desending order of hub scores.*"
   ]
  },
  {
   "cell_type": "code",
   "execution_count": 14,
   "metadata": {},
   "outputs": [
    {
     "data": {
      "text/plain": [
       "['politicalstrategy.org',\n",
       " 'madkane.com/notable.html',\n",
       " 'liberaloasis.com',\n",
       " 'stagefour.typepad.com/commonprejudice',\n",
       " 'bodyandsoul.typepad.com']"
      ]
     },
     "execution_count": 14,
     "metadata": {},
     "output_type": "execute_result"
    }
   ],
   "source": [
    "def answer_eight():\n",
    "        \n",
    "    # Your Code Here\n",
    "    hub, _ = nx.hits(G2)\n",
    "    \n",
    "    #print(hub)  # dict - key:score\n",
    "    \n",
    "    from heapq import nlargest\n",
    "    five_largest = nlargest(5, hub, key=hub.get)\n",
    "    #return hub['realclearpolitics.com'], auth['realclearpolitics.com']# Your Answer Here\n",
    "\n",
    "    \n",
    "    return five_largest# Your Answer Here\n",
    "\n",
    "answer_eight()"
   ]
  },
  {
   "cell_type": "markdown",
   "metadata": {},
   "source": [
    "### Question 9 \n",
    "\n",
    "Apply the HITS Algorithm to this network to find the 5 nodes with highest authority scores.\n",
    "\n",
    "*This function should return a list of the top 5 blogs in desending order of authority scores.*"
   ]
  },
  {
   "cell_type": "code",
   "execution_count": 17,
   "metadata": {},
   "outputs": [
    {
     "data": {
      "text/plain": [
       "['dailykos.com',\n",
       " 'talkingpointsmemo.com',\n",
       " 'atrios.blogspot.com',\n",
       " 'washingtonmonthly.com',\n",
       " 'talkleft.com']"
      ]
     },
     "execution_count": 17,
     "metadata": {},
     "output_type": "execute_result"
    }
   ],
   "source": [
    "def answer_nine():\n",
    "        \n",
    "    # Your Code Here\n",
    "    _, auth = nx.hits(G2)\n",
    "    \n",
    "    #print(hub)  # dict - key:score\n",
    "    \n",
    "    from heapq import nlargest\n",
    "    five_largest = nlargest(5, auth, key=auth.get)\n",
    "    return five_largest# Your Answer Here\n",
    "\n",
    "answer_nine()"
   ]
  }
 ],
 "metadata": {
  "coursera": {
   "course_slug": "python-social-network-analysis",
   "graded_item_id": "4XCse",
   "launcher_item_id": "utvmz",
   "part_id": "cZ7Jg"
  },
  "kernelspec": {
   "display_name": "Python 3",
   "language": "python",
   "name": "python3"
  },
  "language_info": {
   "codemirror_mode": {
    "name": "ipython",
    "version": 3
   },
   "file_extension": ".py",
   "mimetype": "text/x-python",
   "name": "python",
   "nbconvert_exporter": "python",
   "pygments_lexer": "ipython3",
   "version": "3.7.3"
  },
  "varInspector": {
   "cols": {
    "lenName": 16,
    "lenType": 16,
    "lenVar": 40
   },
   "kernels_config": {
    "python": {
     "delete_cmd_postfix": "",
     "delete_cmd_prefix": "del ",
     "library": "var_list.py",
     "varRefreshCmd": "print(var_dic_list())"
    },
    "r": {
     "delete_cmd_postfix": ") ",
     "delete_cmd_prefix": "rm(",
     "library": "var_list.r",
     "varRefreshCmd": "cat(var_dic_list()) "
    }
   },
   "types_to_exclude": [
    "module",
    "function",
    "builtin_function_or_method",
    "instance",
    "_Feature"
   ],
   "window_display": false
  }
 },
 "nbformat": 4,
 "nbformat_minor": 2
}
