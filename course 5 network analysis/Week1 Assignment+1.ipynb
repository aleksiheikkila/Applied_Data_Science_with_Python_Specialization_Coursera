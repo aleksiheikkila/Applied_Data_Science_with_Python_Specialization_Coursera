{
 "cells": [
  {
   "cell_type": "markdown",
   "metadata": {},
   "source": [
    "---\n",
    "\n",
    "_You are currently looking at **version 1.1** of this notebook. To download notebooks and datafiles, as well as get help on Jupyter notebooks in the Coursera platform, visit the [Jupyter Notebook FAQ](https://www.coursera.org/learn/python-social-network-analysis/resources/yPcBs) course resource._\n",
    "\n",
    "---"
   ]
  },
  {
   "cell_type": "markdown",
   "metadata": {},
   "source": [
    "# Assignment 1 - Creating and Manipulating Graphs\n",
    "\n",
    "Eight employees at a small company were asked to choose 3 movies that they would most enjoy watching for the upcoming company movie night. These choices are stored in the file `Employee_Movie_Choices.txt`.\n",
    "\n",
    "A second file, `Employee_Relationships.txt`, has data on the relationships between different coworkers. \n",
    "\n",
    "The relationship score has value of `-100` (Enemies) to `+100` (Best Friends). A value of zero means the two employees haven't interacted or are indifferent.\n",
    "\n",
    "Both files are tab delimited."
   ]
  },
  {
   "cell_type": "code",
   "execution_count": 2,
   "metadata": {
    "collapsed": true
   },
   "outputs": [],
   "source": [
    "import networkx as nx\n",
    "import pandas as pd\n",
    "import numpy as np\n",
    "from networkx.algorithms import bipartite\n",
    "\n",
    "\n",
    "# This is the set of employees\n",
    "employees = set(['Pablo',\n",
    "                 'Lee',\n",
    "                 'Georgia',\n",
    "                 'Vincent',\n",
    "                 'Andy',\n",
    "                 'Frida',\n",
    "                 'Joan',\n",
    "                 'Claude'])\n",
    "\n",
    "# This is the set of movies\n",
    "movies = set(['The Shawshank Redemption',\n",
    "              'Forrest Gump',\n",
    "              'The Matrix',\n",
    "              'Anaconda',\n",
    "              'The Social Network',\n",
    "              'The Godfather',\n",
    "              'Monty Python and the Holy Grail',\n",
    "              'Snakes on a Plane',\n",
    "              'Kung Fu Panda',\n",
    "              'The Dark Knight',\n",
    "              'Mean Girls'])\n",
    "\n",
    "\n",
    "# you can use the following function to plot graphs\n",
    "# make sure to comment it out before submitting to the autograder\n",
    "\n",
    "#def plot_graph(G, weight_name=None):\n",
    "#    '''\n",
    "#    G: a networkx G\n",
    "#    weight_name: name of the attribute for plotting edge weights (if G is weighted)\n",
    "#    '''\n",
    "#    %matplotlib notebook\n",
    "#    import matplotlib.pyplot as plt\n",
    "#    \n",
    "#    plt.figure()\n",
    "#    pos = nx.spring_layout(G)\n",
    "#    edges = G.edges()\n",
    "#    weights = None\n",
    "#    \n",
    "#    if weight_name:\n",
    "#        weights = [int(G[u][v][weight_name]) for u,v in edges]\n",
    "#        labels = nx.get_edge_attributes(G, weight_name)\n",
    "#        nx.draw_networkx_edge_labels(G, pos, edge_labels=labels)\n",
    "#        nx.draw_networkx(G, pos, edges=edges, width=weights);\n",
    "#    else:\n",
    "#        nx.draw_networkx(G, pos, edges=edges);"
   ]
  },
  {
   "cell_type": "markdown",
   "metadata": {},
   "source": [
    "### Question 1\n",
    "\n",
    "Using NetworkX, load in the bipartite graph from `Employee_Movie_Choices.txt` and return that graph.\n",
    "\n",
    "*This function should return a networkx graph with 19 nodes and 24 edges*"
   ]
  },
  {
   "cell_type": "code",
   "execution_count": 10,
   "metadata": {
    "collapsed": true
   },
   "outputs": [],
   "source": [
    "#!cat -T \"Employee_Movie_Choices.txt\"\n",
    "# Tabs are shown as ^I  --> tab separated\n",
    "\n",
    "def answer_one():\n",
    "        \n",
    "    # Your Code Here\n",
    "    G = nx.read_edgelist('Employee_Movie_Choices.txt', delimiter=\"\\t\")   \n",
    "    # data: bool or list of (label,type) tuples.   Tuples specifying dictionary key names and types for edge data\n",
    "\n",
    "    #G.edges(data=True)\n",
    "    \n",
    "    \n",
    "    return G# Your Answer Here\n",
    "\n",
    "#answer_one().edges()\n",
    "#answer_one().nodes()"
   ]
  },
  {
   "cell_type": "markdown",
   "metadata": {},
   "source": [
    "### Question 2\n",
    "\n",
    "Using the graph from the previous question, add nodes attributes named `'type'` where movies have the value `'movie'` and employees have the value `'employee'` and return that graph.\n",
    "\n",
    "*This function should return a networkx graph with node attributes `{'type': 'movie'}` or `{'type': 'employee'}`*"
   ]
  },
  {
   "cell_type": "code",
   "execution_count": 4,
   "metadata": {
    "collapsed": true
   },
   "outputs": [],
   "source": [
    "def answer_two():\n",
    "    # Your Code Here\n",
    "    G = answer_one()\n",
    "    \n",
    "    for n in G.nodes():\n",
    "        #print(n)\n",
    "        if n in employees:\n",
    "            G.add_node(n, type=\"employee\")\n",
    "        elif n in movies:\n",
    "            G.add_node(n, type=\"movie\")\n",
    "        \n",
    "    return G# Your Answer Here\n",
    "\n",
    "#answer_two().nodes(data=True)\n",
    "#plot_graph(answer_two())"
   ]
  },
  {
   "cell_type": "markdown",
   "metadata": {
    "collapsed": true
   },
   "source": [
    "### Question 3\n",
    "\n",
    "Find a weighted projection of the graph from `answer_two` which tells us how many movies different pairs of employees have in common.\n",
    "\n",
    "*This function should return a weighted projected graph.*"
   ]
  },
  {
   "cell_type": "code",
   "execution_count": 9,
   "metadata": {},
   "outputs": [
    {
     "data": {
      "text/plain": [
       "[('Andy', {'type': 'employee'}),\n",
       " ('Joan', {'type': 'employee'}),\n",
       " ('Pablo', {'type': 'employee'}),\n",
       " ('Vincent', {'type': 'employee'}),\n",
       " ('Frida', {'type': 'employee'}),\n",
       " ('Lee', {'type': 'employee'}),\n",
       " ('Claude', {'type': 'employee'}),\n",
       " ('Georgia', {'type': 'employee'})]"
      ]
     },
     "execution_count": 9,
     "metadata": {},
     "output_type": "execute_result"
    }
   ],
   "source": [
    "def answer_three():\n",
    "        \n",
    "    # Your Code Here\n",
    "    from networkx.algorithms import bipartite\n",
    "    G = answer_two()\n",
    "    \n",
    "    P = bipartite.weighted_projected_graph(G, employees)\n",
    "    \n",
    "    \n",
    "    return P# Your Answer Here\n",
    "\n",
    "#answer_three()\n",
    "#plot_graph(answer_three(), weight_name='weight')\n",
    "#answer_three().edges(data=True)\n",
    "#answer_three().nodes(data=True)"
   ]
  },
  {
   "cell_type": "markdown",
   "metadata": {
    "collapsed": true
   },
   "source": [
    "### Question 4\n",
    "\n",
    "Suppose you'd like to find out if people that have a high relationship score also like the same types of movies.\n",
    "\n",
    "Find the Pearson correlation ( using `DataFrame.corr()` ) between employee relationship scores and the number of movies they have in common. If two employees have no movies in common it should be treated as a 0, not a missing value, and should be included in the correlation calculation.\n",
    "\n",
    "*This function should return a float.*"
   ]
  },
  {
   "cell_type": "code",
   "execution_count": 13,
   "metadata": {},
   "outputs": [
    {
     "data": {
      "text/plain": [
       "0.7883962221733477"
      ]
     },
     "execution_count": 13,
     "metadata": {},
     "output_type": "execute_result"
    }
   ],
   "source": [
    "#!cat Employee_Relationships.txt\n",
    "def answer_four():\n",
    "        \n",
    "    # Your Code Here\n",
    "    # add relationship (symmetric) to the graph\n",
    "    \n",
    "    # Find the Pearson correlation between employee relationship scores and the number of movies they have in common.\n",
    "    # movies in common tulee\n",
    "    \n",
    "    G = answer_three()\n",
    "    \n",
    "    df = pd.DataFrame(G.edges(data=True), columns=['person_a', 'person_b', 'common_movies'])\n",
    "    \n",
    "    # unpack dict\n",
    "    df[\"common_movies\"] = df[\"common_movies\"].map(lambda x: x[\"weight\"])\n",
    "    #df.head()  # outcome is with dict\n",
    "    \n",
    "    #df_ordered = df.copy()\n",
    "    \n",
    "    #for index, row in df.iterrows():\n",
    "    #    if row[\"person_a\"] > row[\"person_b\"]:\n",
    "    #        print(\"a > b, swap needed:\\t\", row[\"person_a\"], row[\"person_b\"])\n",
    "    #        \n",
    "    #        df_ordered.iloc[index][\"person_b\"] = row[\"person_a\"]\n",
    "    #        df_ordered.iloc[index][\"person_a\"] = row[\"person_b\"]\n",
    "    \n",
    "    \n",
    "    # apply row-wise (applymap would apply to each element)\n",
    "    df[\"person_a_ordered\"] = df.apply(\n",
    "            lambda x: np.where((x[\"person_a\"] > x[\"person_b\"]), x[\"person_b\"], x[\"person_a\"]), axis=1)\n",
    "    \n",
    "    df[\"person_b_ordered\"] = df.apply(\n",
    "            lambda x: np.where((x[\"person_a\"] > x[\"person_b\"]), x[\"person_a\"], x[\"person_b\"]), axis=1)\n",
    "    \n",
    "\n",
    "    # drop old cols\n",
    "    df = df.drop([\"person_a\", \"person_b\"], axis=1)\n",
    "    \n",
    "    #rename cols\n",
    "    df = df.rename(columns={\"person_a_ordered\": \"person_a\", \"person_b_ordered\": \"person_b\"})\n",
    "    \n",
    "    #reorder cols\n",
    "    df = df[[\"person_a\", \"person_b\", \"common_movies\"]]  \n",
    "    \n",
    "    likings = pd.read_table(\"Employee_Relationships.txt\", names=[\"person_a\", \"person_b\", \"liking_score\"])\n",
    "    #likings.head()\n",
    "    \n",
    "    \n",
    "    #print(df)\n",
    "    # set indices\n",
    "    #df = df.reset_index().set_index([\"person_a\", \"person_b\"])  # why \"unhashable type: 'numpy.ndarray'\n",
    "    likings = likings.set_index([\"person_a\", \"person_b\"])\n",
    "    \n",
    "    #print(df.dtypes)\n",
    "    #df = pd.DataFrame(df)\n",
    "    df = df.as_matrix(columns= [\"person_a\",\"person_b\",\"common_movies\"])\n",
    "    df = pd.DataFrame(data = df, columns=[\"person_a\",\"person_b\",\"common_movies\"])\n",
    "    \n",
    "    ##print(df)\n",
    "    #print(\"\\n\")\n",
    "    #print(likings)\n",
    "    \n",
    "    #merged_df = pd.merge(likings, df, how='left', on=['person_a', 'person_b'])\n",
    "    #print(merged_df)\n",
    "    \n",
    "    \n",
    "    \n",
    "    #print(df)\n",
    "    \n",
    "    #likings[\"common_movies\"] = 0\n",
    "    #print(likings)\n",
    "    \n",
    "    #for index, row in df.iterrows():\n",
    "    #    likings.loc[[row[\"person_a\"], row[\"person_b\"]], \"common_movies\"] = row[\"common_movies\"]\n",
    "   \n",
    "    # Cannot get it done for some reason unhashable type: 'numpy.ndarray'\n",
    "    # slight hack: join by hand\n",
    "    \n",
    "    commonMoviesCountList = [1,1,1,1,1,1,0,0,3,0,\n",
    "                                 0,0,0,0,0,0,2,2,0,0,\n",
    "                                 0,0,3,0,0,0,0,1]\n",
    "    \n",
    "    # add to likings df\n",
    "    counts = pd.Series(commonMoviesCountList)\n",
    "    likings[\"common_movies\"] = counts.values\n",
    "    \n",
    "    #print(likings)\n",
    "    \n",
    "    #print(likings.corr())\n",
    "    corr_coef = likings[\"liking_score\"].corr(likings[\"common_movies\"])\n",
    "    \n",
    "    return float(corr_coef)\n",
    "\n",
    "# Not correct    \n",
    "\n",
    "answer_four()"
   ]
  }
 ],
 "metadata": {
  "coursera": {
   "course_slug": "python-social-network-analysis",
   "graded_item_id": "YNa9b",
   "launcher_item_id": "hvNc1",
   "part_id": "VbyiB"
  },
  "kernelspec": {
   "display_name": "Python 3",
   "language": "python",
   "name": "python3"
  },
  "language_info": {
   "codemirror_mode": {
    "name": "ipython",
    "version": 3
   },
   "file_extension": ".py",
   "mimetype": "text/x-python",
   "name": "python",
   "nbconvert_exporter": "python",
   "pygments_lexer": "ipython3",
   "version": "3.7.3"
  },
  "varInspector": {
   "cols": {
    "lenName": 16,
    "lenType": 16,
    "lenVar": 40
   },
   "kernels_config": {
    "python": {
     "delete_cmd_postfix": "",
     "delete_cmd_prefix": "del ",
     "library": "var_list.py",
     "varRefreshCmd": "print(var_dic_list())"
    },
    "r": {
     "delete_cmd_postfix": ") ",
     "delete_cmd_prefix": "rm(",
     "library": "var_list.r",
     "varRefreshCmd": "cat(var_dic_list()) "
    }
   },
   "types_to_exclude": [
    "module",
    "function",
    "builtin_function_or_method",
    "instance",
    "_Feature"
   ],
   "window_display": false
  }
 },
 "nbformat": 4,
 "nbformat_minor": 2
}
